{
 "cells": [
  {
   "cell_type": "markdown",
   "metadata": {},
   "source": [
    "# JupyterLite File Access Example\n",
    "\n",
    "This notebook demonstrates how to access files in JupyterLite's virtual file system."
   ]
  },
  {
   "cell_type": "markdown",
   "metadata": {},
   "source": [
    "## Using Direct File Access\n",
    "The following examples show how to access files from different locations in JupyterLite."
   ]
  },
  {
   "cell_type": "code",
   "execution_count": null,
   "metadata": {},
   "outputs": [],
   "source": [
    "import pandas as pd\n",
    "import os\n",
    "import glob\n",
    "import json"
   ]
  },
  {
   "cell_type": "markdown",
   "metadata": {},
   "source": [
    "### 1. Access Files from Static Directory\n",
    "Files in the `static/files` directory are mounted at `/files` in JupyterLite."
   ]
  },
  {
   "cell_type": "code",
   "execution_count": null,
   "metadata": {},
   "outputs": [],
   "source": [
    "# Try to access files from the /files path (from static/files)\n",
    "try:\n",
    "    # List all CSV files in the /files directory\n",
    "    print(\"Searching for CSV files in /files...\")\n",
    "    csv_files = glob.glob(\"/files/**/*.csv\", recursive=True)\n",
    "    print(f\"Found {len(csv_files)} CSV files:\")\n",
    "    for file in csv_files:\n",
    "        print(f\"  - {file}\")\n",
    "        \n",
    "    # Try to read a CSV file\n",
    "    if csv_files:\n",
    "        df = pd.read_csv(csv_files[0])\n",
    "        print(f\"\\nSuccessfully loaded {len(df)} rows from {csv_files[0]}\")\n",
    "        print(\"First 5 rows:\")\n",
    "        display(df.head())\n",
    "except Exception as e:\n",
    "    print(f\"Error accessing files from /files: {e}\")"
   ]
  },
  {
   "cell_type": "markdown",
   "metadata": {},
   "source": [
    "### 2. Access Files from Content Directory\n",
    "Files in the `content` directory are accessible relative to the notebook location."
   ]
  },
  {
   "cell_type": "code",
   "execution_count": null,
   "metadata": {},
   "outputs": [],
   "source": [
    "# Try to access files from relative paths (from content directory)\n",
    "try:\n",
    "    print(\"Searching for CSV files in relative paths...\")\n",
    "    # List all CSV files in various relative paths\n",
    "    relative_paths = [\n",
    "        \"./data/fresh_service_tickets/*.csv\",\n",
    "        \"../data/fresh_service_tickets/*.csv\",\n",
    "        \"data/fresh_service_tickets/*.csv\",\n",
    "        \"data/*.csv\",\n",
    "        \"./data/*.csv\"\n",
    "    ]\n",
    "    \n",
    "    all_files = []\n",
    "    for pattern in relative_paths:\n",
    "        files = glob.glob(pattern)\n",
    "        if files:\n",
    "            print(f\"Found files matching {pattern}:\")\n",
    "            for file in files:\n",
    "                print(f\"  - {file}\")\n",
    "                all_files.append(file)\n",
    "    \n",
    "    # Try to read a CSV file\n",
    "    if all_files:\n",
    "        df = pd.read_csv(all_files[0])\n",
    "        print(f\"\\nSuccessfully loaded {len(df)} rows from {all_files[0]}\")\n",
    "        print(\"First 5 rows:\")\n",
    "        display(df.head())\n",
    "except Exception as e:\n",
    "    print(f\"Error accessing files from relative paths: {e}\")"
   ]
  },
  {
   "cell_type": "markdown",
   "metadata": {},
   "source": [
    "### 3. Using the JupyterLite Contents API (Advanced)\n",
    "This uses the JupyterLite-specific contents API to access files."
   ]
  },
  {
   "cell_type": "code",
   "execution_count": null,
   "metadata": {},
   "outputs": [],
   "source": [
    "%%javascript\n",
    "// List files using the JupyterLite Contents API\n",
    "async function listFiles() {\n",
    "    try {\n",
    "        // Get the Jupyter notebook API\n",
    "        const contents = Jupyter.notebook.contents;\n",
    "        \n",
    "        // List files in different directories\n",
    "        const paths = [\n",
    "            '/files',\n",
    "            '/files/data',\n",
    "            'data',\n",
    "            './data'\n",
    "        ];\n",
    "        \n",
    "        for (const path of paths) {\n",
    "            try {\n",
    "                console.log(`Trying to list files in: ${path}`)\n",
    "                const result = await contents.list(path);\n",
    "                console.log(`Files in ${path}:`, result.content);\n",
    "                element.text(`Files found in ${path}: ${result.content.length}`);\n",
    "            } catch (e) {\n",
    "                console.error(`Error listing ${path}:`, e);\n",
    "            }\n",
    "        }\n",
    "    } catch (e) {\n",
    "        console.error(\"Error listing files:\", e);\n",
    "        element.text(`Error: ${e.toString()}`);\n",
    "    }\n",
    "}\n",
    "\n",
    "listFiles();"
   ]
  },
  {
   "cell_type": "markdown",
   "metadata": {},
   "source": [
    "### 4. Explore Current Directory Structure\n",
    "Let's explore the current directory to understand the file structure in JupyterLite."
   ]
  },
  {
   "cell_type": "code",
   "execution_count": null,
   "metadata": {},
   "outputs": [],
   "source": [
    "# Print information about the current directory\n",
    "print(f\"Current working directory: {os.getcwd()}\")\n",
    "\n",
    "# Try to list files in the current directory\n",
    "try:\n",
    "    files = os.listdir('.')\n",
    "    print(\"\\nFiles in current directory:\")\n",
    "    for file in files:\n",
    "        print(f\"  - {file}\")\n",
    "except Exception as e:\n",
    "    print(f\"Error listing current directory: {e}\")\n",
    "    \n",
    "# Try different parent directories\n",
    "for parent_dir in ['..', '../..', '/', '/files']:\n",
    "    try:\n",
    "        files = os.listdir(parent_dir)\n",
    "        print(f\"\\nFiles in {parent_dir}:\")\n",
    "        for file in files:\n",
    "            print(f\"  - {file}\")\n",
    "    except Exception as e:\n",
    "        print(f\"Error listing {parent_dir}: {e}\")"
   ]
  },
  {
   "cell_type": "markdown",
   "metadata": {},
   "source": [
    "## Summary\n",
    "\n",
    "This notebook helps identify where files are located in the JupyterLite environment. Use the results to determine the correct file paths to use in your ticket analysis notebook."
   ]
  }
 ],
 "metadata": {
  "kernelspec": {
   "display_name": "Python 3",
   "language": "python",
   "name": "python3"
  },
  "language_info": {
   "codemirror_mode": {
    "name": "ipython",
    "version": 3
   },
   "file_extension": ".py",
   "mimetype": "text/x-python",
   "name": "python",
   "nbconvert_exporter": "python",
   "pygments_lexer": "ipython3",
   "version": "3.8.0"
  }
 },
 "nbformat": 4,
 "nbformat_minor": 4
}
